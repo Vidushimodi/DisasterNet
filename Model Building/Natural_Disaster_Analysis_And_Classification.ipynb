{
 "cells": [
  {
   "cell_type": "markdown",
   "metadata": {
    "id": "pOvNnyOxbFfS"
   },
   "source": [
    "Importing Necessary Libraries"
   ]
  },
  {
   "cell_type": "code",
   "execution_count": 2,
   "metadata": {
    "id": "YmcYEuPYYt4j"
   },
   "outputs": [],
   "source": [
    "import numpy as np\n",
    "from keras.preprocessing import image\n",
    "from keras.preprocessing.image import ImageDataGenerator\n",
    "from keras.models import Sequential, load_model\n",
    "from keras.layers import Dense, Flatten, Conv2D, MaxPool2D, Dropout"
   ]
  },
  {
   "cell_type": "markdown",
   "metadata": {
    "id": "rb2hUJIHbLFU"
   },
   "source": [
    "Image Data Augumentation"
   ]
  },
  {
   "cell_type": "code",
   "execution_count": 3,
   "metadata": {
    "id": "sN1KTl3RYt-s"
   },
   "outputs": [],
   "source": [
    "# Setting parameter for Image Data augumentation to the traing data\n",
    "train_datagen = ImageDataGenerator(rescale = 1./255, shear_range = 0.2, zoom_range = 0.2, horizontal_flip = True)\n",
    "\n",
    "# Image Data augumentation to the testing data\n",
    "test_datagen = ImageDataGenerator(rescale = 1./255)"
   ]
  },
  {
   "cell_type": "markdown",
   "metadata": {
    "id": "ld95Ys7lbJK7"
   },
   "source": [
    "Loading our data and performing data augumentation"
   ]
  },
  {
   "cell_type": "code",
   "execution_count": 4,
   "metadata": {
    "id": "pxZLm_S1Yt7V"
   },
   "outputs": [
    {
     "name": "stdout",
     "output_type": "stream",
     "text": [
      "Found 742 images belonging to 4 classes.\n",
      "Found 198 images belonging to 4 classes.\n"
     ]
    }
   ],
   "source": [
    "# Performing data augumentation to train data\n",
    "x_train = train_datagen.flow_from_directory(r'C:\\Users\\srini\\Project Files\\dataset\\train_set', target_size = (64, 64),\n",
    "                                            batch_size = 5, color_mode = 'rgb', class_mode = 'categorical')\n",
    "\n",
    "# Performing data augumentation to test data\n",
    "x_test = test_datagen.flow_from_directory(r'C:\\Users\\srini\\Project Files\\dataset\\test_set', target_size = (64, 64),\n",
    "                                          batch_size = 5, color_mode = 'rgb', class_mode = 'categorical')"
   ]
  },
  {
   "cell_type": "code",
   "execution_count": 5,
   "metadata": {
    "id": "gGXUyY31aZ6b"
   },
   "outputs": [
    {
     "name": "stdout",
     "output_type": "stream",
     "text": [
      "Model: \"sequential\"\n",
      "_________________________________________________________________\n",
      " Layer (type)                Output Shape              Param #   \n",
      "=================================================================\n",
      " conv2d (Conv2D)             (None, 62, 62, 32)        896       \n",
      "                                                                 \n",
      " max_pooling2d (MaxPooling2  (None, 31, 31, 32)        0         \n",
      " D)                                                              \n",
      "                                                                 \n",
      " conv2d_1 (Conv2D)           (None, 29, 29, 32)        9248      \n",
      "                                                                 \n",
      " max_pooling2d_1 (MaxPoolin  (None, 14, 14, 32)        0         \n",
      " g2D)                                                            \n",
      "                                                                 \n",
      " flatten (Flatten)           (None, 6272)              0         \n",
      "                                                                 \n",
      " dense (Dense)               (None, 128)               802944    \n",
      "                                                                 \n",
      " dense_1 (Dense)             (None, 4)                 516       \n",
      "                                                                 \n",
      "=================================================================\n",
      "Total params: 813604 (3.10 MB)\n",
      "Trainable params: 813604 (3.10 MB)\n",
      "Non-trainable params: 0 (0.00 Byte)\n",
      "_________________________________________________________________\n"
     ]
    }
   ],
   "source": [
    "classifier = Sequential()\n",
    "\n",
    "# First convolution layer and pooling\n",
    "classifier.add(Conv2D(32, (3, 3), input_shape = (64, 64, 3), activation='relu'))\n",
    "classifier.add(MaxPool2D(pool_size = (2, 2)))\n",
    "\n",
    "# Second convolution layer and pooling\n",
    "# input_shape is going to be the pooled feature maps from the previous convolution\n",
    "classifier.add(Conv2D(32, (3, 3), activation='relu'))\n",
    "classifier.add(MaxPool2D(pool_size=(2, 2)))\n",
    "\n",
    "# Flattening the Layers\n",
    "classifier.add(Flatten())\n",
    "\n",
    "# Adding a fully connected Layer\n",
    "classifier.add(Dense(units = 128, activation = 'relu'))\n",
    "classifier.add(Dense(units = 4, activation = 'softmax'))\n",
    "\n",
    "classifier.summary()"
   ]
  },
  {
   "cell_type": "markdown",
   "metadata": {
    "id": "dmfe68TOa_yF"
   },
   "source": [
    "Compiling the model"
   ]
  },
  {
   "cell_type": "code",
   "execution_count": 6,
   "metadata": {
    "id": "soKPwjhYaZ0n"
   },
   "outputs": [],
   "source": [
    "# Compiling the CNN - categorical_crossentropy for more than 2\n",
    "classifier.compile(optimizer = 'adam', loss = \"categorical_crossentropy\", metrics = ['accuracy'])"
   ]
  },
  {
   "cell_type": "markdown",
   "metadata": {
    "id": "7b7fon0xa6tx"
   },
   "source": [
    "Fitting the model"
   ]
  },
  {
   "cell_type": "code",
   "execution_count": 7,
   "metadata": {
    "id": "SRNKbTSgaZwK"
   },
   "outputs": [
    {
     "name": "stderr",
     "output_type": "stream",
     "text": [
      "C:\\Users\\srini\\AppData\\Local\\Temp\\ipykernel_3700\\984684524.py:1: UserWarning: `Model.fit_generator` is deprecated and will be removed in a future version. Please use `Model.fit`, which supports generators.\n",
      "  classifier.fit_generator(generator = x_train, steps_per_epoch = len(x_train), epochs=20,\n"
     ]
    },
    {
     "name": "stdout",
     "output_type": "stream",
     "text": [
      "Epoch 1/20\n",
      "149/149 [==============================] - 16s 99ms/step - loss: 1.2190 - accuracy: 0.4259 - val_loss: 1.1216 - val_accuracy: 0.5101\n",
      "Epoch 2/20\n",
      "149/149 [==============================] - 14s 94ms/step - loss: 0.9044 - accuracy: 0.5903 - val_loss: 1.0244 - val_accuracy: 0.5354\n",
      "Epoch 3/20\n",
      "149/149 [==============================] - 14s 97ms/step - loss: 0.7626 - accuracy: 0.6779 - val_loss: 0.7605 - val_accuracy: 0.7172\n",
      "Epoch 4/20\n",
      "149/149 [==============================] - 14s 96ms/step - loss: 0.6302 - accuracy: 0.7520 - val_loss: 0.6815 - val_accuracy: 0.7525\n",
      "Epoch 5/20\n",
      "149/149 [==============================] - 14s 95ms/step - loss: 0.6127 - accuracy: 0.7385 - val_loss: 0.6200 - val_accuracy: 0.7727\n",
      "Epoch 6/20\n",
      "149/149 [==============================] - 14s 95ms/step - loss: 0.5471 - accuracy: 0.7965 - val_loss: 0.6471 - val_accuracy: 0.7980\n",
      "Epoch 7/20\n",
      "149/149 [==============================] - 14s 95ms/step - loss: 0.4755 - accuracy: 0.8113 - val_loss: 0.7347 - val_accuracy: 0.7576\n",
      "Epoch 8/20\n",
      "149/149 [==============================] - 14s 95ms/step - loss: 0.5350 - accuracy: 0.8154 - val_loss: 0.9135 - val_accuracy: 0.7121\n",
      "Epoch 9/20\n",
      "149/149 [==============================] - 14s 94ms/step - loss: 0.4357 - accuracy: 0.8477 - val_loss: 0.8658 - val_accuracy: 0.7222\n",
      "Epoch 10/20\n",
      "149/149 [==============================] - 14s 94ms/step - loss: 0.3656 - accuracy: 0.8679 - val_loss: 0.7432 - val_accuracy: 0.7828\n",
      "Epoch 11/20\n",
      "149/149 [==============================] - 14s 95ms/step - loss: 0.3009 - accuracy: 0.8895 - val_loss: 0.7041 - val_accuracy: 0.8081\n",
      "Epoch 12/20\n",
      "149/149 [==============================] - 14s 95ms/step - loss: 0.3030 - accuracy: 0.8868 - val_loss: 0.7183 - val_accuracy: 0.7980\n",
      "Epoch 13/20\n",
      "149/149 [==============================] - 14s 94ms/step - loss: 0.3277 - accuracy: 0.8720 - val_loss: 0.9830 - val_accuracy: 0.7020\n",
      "Epoch 14/20\n",
      "149/149 [==============================] - 14s 97ms/step - loss: 0.3372 - accuracy: 0.8787 - val_loss: 0.8888 - val_accuracy: 0.7475\n",
      "Epoch 15/20\n",
      "149/149 [==============================] - 15s 100ms/step - loss: 0.2266 - accuracy: 0.9137 - val_loss: 0.8298 - val_accuracy: 0.7980\n",
      "Epoch 16/20\n",
      "149/149 [==============================] - 15s 101ms/step - loss: 0.2533 - accuracy: 0.9030 - val_loss: 0.8568 - val_accuracy: 0.7374\n",
      "Epoch 17/20\n",
      "149/149 [==============================] - 15s 100ms/step - loss: 0.2099 - accuracy: 0.9205 - val_loss: 0.9752 - val_accuracy: 0.7626\n",
      "Epoch 18/20\n",
      "149/149 [==============================] - 15s 100ms/step - loss: 0.1915 - accuracy: 0.9259 - val_loss: 1.0309 - val_accuracy: 0.7727\n",
      "Epoch 19/20\n",
      "149/149 [==============================] - 15s 100ms/step - loss: 0.2215 - accuracy: 0.9191 - val_loss: 1.6088 - val_accuracy: 0.6869\n",
      "Epoch 20/20\n",
      "149/149 [==============================] - 15s 98ms/step - loss: 0.1909 - accuracy: 0.9380 - val_loss: 0.9350 - val_accuracy: 0.7576\n"
     ]
    },
    {
     "data": {
      "text/plain": [
       "<keras.src.callbacks.History at 0x1c74bacc090>"
      ]
     },
     "execution_count": 7,
     "metadata": {},
     "output_type": "execute_result"
    }
   ],
   "source": [
    "classifier.fit_generator(generator = x_train, steps_per_epoch = len(x_train), epochs=20,\n",
    "                         validation_data = x_test, validation_steps = len(x_test))\n",
    "# No of images in test set"
   ]
  },
  {
   "cell_type": "code",
   "execution_count": 7,
   "metadata": {
    "id": "CQdhZLCdayQB"
   },
   "outputs": [
    {
     "name": "stderr",
     "output_type": "stream",
     "text": [
      "C:\\Users\\srini\\AppData\\Local\\Packages\\PythonSoftwareFoundation.Python.3.11_qbz5n2kfra8p0\\LocalCache\\local-packages\\Python311\\site-packages\\keras\\src\\engine\\training.py:3000: UserWarning: You are saving your model as an HDF5 file via `model.save()`. This file format is considered legacy. We recommend using instead the native Keras format, e.g. `model.save('my_model.keras')`.\n",
      "  saving_api.save_model(\n"
     ]
    }
   ],
   "source": [
    "# Save the model\n",
    "classifier.save('disaster.h5')\n",
    "model_json = classifier.to_json()\n",
    "\n",
    "with open(\"model-bw.json\", \"w\") as json_file:\n",
    "    json_file.write(model_json)"
   ]
  },
  {
   "cell_type": "code",
   "execution_count": 8,
   "metadata": {
    "id": "ijJH04eVaz5G"
   },
   "outputs": [],
   "source": [
    "model = load_model(\"disaster.h5\")"
   ]
  },
  {
   "cell_type": "code",
   "execution_count": null,
   "metadata": {
    "id": "uR4FGYg4a1ig"
   },
   "outputs": [],
   "source": [
    "img = image.load_img(r\"C:\\Users\\srini\\Project Files\\dataset\\test_set\\Cyclone\\929.jpg\", target_size = (64, 64))\n",
    "x = image.img_to_array(img)\n",
    "x = np.expand_dims(x, axis = 0)\n",
    "\n",
    "pred = np.argmax(model.predict(x))"
   ]
  },
  {
   "cell_type": "code",
   "execution_count": 16,
   "metadata": {
    "id": "xiz8BZp2a21D"
   },
   "outputs": [
    {
     "data": {
      "text/plain": [
       "'Cyclone'"
      ]
     },
     "execution_count": 16,
     "metadata": {},
     "output_type": "execute_result"
    }
   ],
   "source": [
    "index = ['Cyclone', 'Earthquake', 'Flood', 'Wildfire']\n",
    "result = index[pred]\n",
    "result"
   ]
  }
 ],
 "metadata": {
  "colab": {
   "provenance": []
  },
  "kernelspec": {
   "display_name": "Python 3 (ipykernel)",
   "language": "python",
   "name": "python3"
  },
  "language_info": {
   "codemirror_mode": {
    "name": "ipython",
    "version": 3
   },
   "file_extension": ".py",
   "mimetype": "text/x-python",
   "name": "python",
   "nbconvert_exporter": "python",
   "pygments_lexer": "ipython3",
   "version": "3.11.3"
  }
 },
 "nbformat": 4,
 "nbformat_minor": 1
}
